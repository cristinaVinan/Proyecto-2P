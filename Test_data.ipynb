{
 "cells": [
  {
   "cell_type": "markdown",
   "id": "08938d16-da43-4701-bf8c-79276089e9a0",
   "metadata": {},
   "source": [
    "# Test the data"
   ]
  },
  {
   "cell_type": "markdown",
   "id": "a909923a-fb12-4ddd-865e-ed61bf519f53",
   "metadata": {},
   "source": [
    "# Import libraries"
   ]
  },
  {
   "cell_type": "code",
   "execution_count": 1,
   "id": "cf549008-f712-4e2f-a1e9-94d5f6284062",
   "metadata": {
    "ExecuteTime": {
     "end_time": "2023-08-31T22:10:58.056581600Z",
     "start_time": "2023-08-31T22:10:50.856578700Z"
    }
   },
   "outputs": [],
   "source": [
    "import numpy as np\n",
    "import streamlit as st\n",
    "import pandas as pd\n",
    "import matplotlib\n",
    "import matplotlib.pyplot as plt\n",
    "from bs4 import BeautifulSoup\n",
    "import plotly_express as px\n",
    "from scipy import stats\n",
    "from streamlit_option_menu import option_menu\n",
    "from PIL import Image\n",
    "from collections import namedtuple\n",
    "from io import StringIO\n",
    "import warnings"
   ]
  },
  {
   "cell_type": "markdown",
   "id": "de375ad6-1e0e-42e0-915c-a8ac038794dd",
   "metadata": {},
   "source": [
    "# Process Data"
   ]
  },
  {
   "cell_type": "markdown",
   "id": "d8119863-b249-4fc4-997b-986e0218c451",
   "metadata": {},
   "source": [
    "## Read file"
   ]
  },
  {
   "cell_type": "code",
   "execution_count": 2,
   "id": "b4e647f7-396d-449f-9437-bd7dd21de400",
   "metadata": {
    "ExecuteTime": {
     "end_time": "2023-08-31T22:11:00.904967200Z",
     "start_time": "2023-08-31T22:10:58.053505400Z"
    }
   },
   "outputs": [
    {
     "name": "stdout",
     "output_type": "stream",
     "text": [
      "      Unnamed: 0       date    well_name  prod_hrs         bhp         bht  \\\n",
      "0             15 2014-04-22   15/9-F-1 C    24.000  289.421362  106.353209   \n",
      "1             16 2014-04-23   15/9-F-1 C    24.000  270.239793  107.643779   \n",
      "2             17 2014-04-24   15/9-F-1 C    24.000  262.842747  107.869234   \n",
      "3             18 2014-04-25   15/9-F-1 C    24.000  255.526995  107.971137   \n",
      "4             19 2014-04-26   15/9-F-1 C    24.000  247.199052  108.052030   \n",
      "...          ...        ...          ...       ...         ...         ...   \n",
      "5934        8923 2016-07-02  15/9-F-15 D    24.000  194.983953  106.517574   \n",
      "5935        8924 2016-07-03  15/9-F-15 D    24.000  194.977634  106.515586   \n",
      "5936        8925 2016-07-04  15/9-F-15 D    24.000  194.317112  106.521356   \n",
      "5937        8926 2016-07-05  15/9-F-15 D    24.000  195.207173  106.506781   \n",
      "5938        8927 2016-07-06  15/9-F-15 D    18.375  195.305708  106.507232   \n",
      "\n",
      "       dp_tubing         tht        thp  choke_size_percentage     oil_rate  \\\n",
      "0     182.059312  107.362050  37.939251              78.935409   631.470000   \n",
      "1     171.052782   99.187011  60.756579              70.627109  1166.460000   \n",
      "2     168.241977   94.600770  63.046800              66.049151  1549.810000   \n",
      "3     165.538903   89.988092  64.547229              61.405386  1248.700000   \n",
      "4     162.422242   84.776810  65.723694              56.147906  1345.780000   \n",
      "...          ...         ...        ...                    ...          ...   \n",
      "5934  179.170590   15.813363  49.020020               1.259761   144.010000   \n",
      "5935  179.204392   15.773242  48.988494               1.198993   145.220000   \n",
      "5936  178.615149   15.701963  50.103416               1.279639   142.740000   \n",
      "5937  179.598751   15.608422  49.841092               1.204128   144.460000   \n",
      "5938  179.547756   15.757952  48.734245               1.302808   138.840816   \n",
      "\n",
      "           gas_rate  water_rate         gor        wc  num_of_days  \n",
      "0      90439.090000    0.000000  143.219931  0.000000         2425  \n",
      "1     165720.390000    0.000000  142.071215  0.000000         2426  \n",
      "2     221707.310000    0.000000  143.054510  0.000000         2427  \n",
      "3     178063.520000    0.000000  142.599119  0.000000         2428  \n",
      "4     192602.190000    0.000000  143.115658  0.000000         2429  \n",
      "...             ...         ...         ...       ...          ...  \n",
      "5934   23201.350000  203.930000  161.109298  0.586107         3227  \n",
      "5935   23068.070000  202.930000  158.849125  0.582881         3228  \n",
      "5936   23059.680000  203.840000  161.550231  0.588147         3229  \n",
      "5937   23090.470000  202.760000  159.839886  0.583953         3230  \n",
      "5938   22905.573878  203.363265  164.977234  0.594275         3231  \n",
      "\n",
      "[5939 rows x 16 columns]\n"
     ]
    }
   ],
   "source": [
    "well_file = \"data_clean_volve.xlsx\"\n",
    "data = pd.read_excel(well_file)\n",
    "print(data)"
   ]
  },
  {
   "cell_type": "code",
   "execution_count": 3,
   "id": "6d5048d2-4b44-47ad-87a2-ccb6dd8f4b55",
   "metadata": {
    "ExecuteTime": {
     "end_time": "2023-08-31T22:11:01.818314800Z",
     "start_time": "2023-08-31T22:11:00.909487500Z"
    }
   },
   "outputs": [
    {
     "ename": "TypeError",
     "evalue": "Cannot perform 'rand_' with a dtyped [object] array and scalar of type [bool]",
     "output_type": "error",
     "traceback": [
      "\u001B[1;31m---------------------------------------------------------------------------\u001B[0m",
      "\u001B[1;31mTypeError\u001B[0m                                 Traceback (most recent call last)",
      "File \u001B[1;32m~\\miniconda3\\envs\\Drilling\\Lib\\site-packages\\pandas\\core\\ops\\array_ops.py:311\u001B[0m, in \u001B[0;36mna_logical_op\u001B[1;34m(x, y, op)\u001B[0m\n\u001B[0;32m    302\u001B[0m \u001B[38;5;28;01mtry\u001B[39;00m:\n\u001B[0;32m    303\u001B[0m     \u001B[38;5;66;03m# For exposition, write:\u001B[39;00m\n\u001B[0;32m    304\u001B[0m     \u001B[38;5;66;03m#  yarr = isinstance(y, np.ndarray)\u001B[39;00m\n\u001B[1;32m   (...)\u001B[0m\n\u001B[0;32m    309\u001B[0m     \u001B[38;5;66;03m# Then Cases where this goes through without raising include:\u001B[39;00m\n\u001B[0;32m    310\u001B[0m     \u001B[38;5;66;03m#  (xint or xbool) and (yint or bool)\u001B[39;00m\n\u001B[1;32m--> 311\u001B[0m     result \u001B[38;5;241m=\u001B[39m \u001B[43mop\u001B[49m\u001B[43m(\u001B[49m\u001B[43mx\u001B[49m\u001B[43m,\u001B[49m\u001B[43m \u001B[49m\u001B[43my\u001B[49m\u001B[43m)\u001B[49m\n\u001B[0;32m    312\u001B[0m \u001B[38;5;28;01mexcept\u001B[39;00m \u001B[38;5;167;01mTypeError\u001B[39;00m:\n",
      "File \u001B[1;32m~\\miniconda3\\envs\\Drilling\\Lib\\site-packages\\pandas\\core\\roperator.py:54\u001B[0m, in \u001B[0;36mrand_\u001B[1;34m(left, right)\u001B[0m\n\u001B[0;32m     53\u001B[0m \u001B[38;5;28;01mdef\u001B[39;00m \u001B[38;5;21mrand_\u001B[39m(left, right):\n\u001B[1;32m---> 54\u001B[0m     \u001B[38;5;28;01mreturn\u001B[39;00m \u001B[43moperator\u001B[49m\u001B[38;5;241;43m.\u001B[39;49m\u001B[43mand_\u001B[49m\u001B[43m(\u001B[49m\u001B[43mright\u001B[49m\u001B[43m,\u001B[49m\u001B[43m \u001B[49m\u001B[43mleft\u001B[49m\u001B[43m)\u001B[49m\n",
      "\u001B[1;31mTypeError\u001B[0m: unsupported operand type(s) for &: 'str' and 'str'",
      "\nDuring handling of the above exception, another exception occurred:\n",
      "\u001B[1;31mTypeError\u001B[0m                                 Traceback (most recent call last)",
      "File \u001B[1;32m~\\miniconda3\\envs\\Drilling\\Lib\\site-packages\\pandas\\core\\ops\\array_ops.py:325\u001B[0m, in \u001B[0;36mna_logical_op\u001B[1;34m(x, y, op)\u001B[0m\n\u001B[0;32m    324\u001B[0m \u001B[38;5;28;01mtry\u001B[39;00m:\n\u001B[1;32m--> 325\u001B[0m     result \u001B[38;5;241m=\u001B[39m \u001B[43mlibops\u001B[49m\u001B[38;5;241;43m.\u001B[39;49m\u001B[43mscalar_binop\u001B[49m\u001B[43m(\u001B[49m\u001B[43mx\u001B[49m\u001B[43m,\u001B[49m\u001B[43m \u001B[49m\u001B[43my\u001B[49m\u001B[43m,\u001B[49m\u001B[43m \u001B[49m\u001B[43mop\u001B[49m\u001B[43m)\u001B[49m\n\u001B[0;32m    326\u001B[0m \u001B[38;5;28;01mexcept\u001B[39;00m (\n\u001B[0;32m    327\u001B[0m     \u001B[38;5;167;01mTypeError\u001B[39;00m,\n\u001B[0;32m    328\u001B[0m     \u001B[38;5;167;01mValueError\u001B[39;00m,\n\u001B[1;32m   (...)\u001B[0m\n\u001B[0;32m    331\u001B[0m     \u001B[38;5;167;01mNotImplementedError\u001B[39;00m,\n\u001B[0;32m    332\u001B[0m ) \u001B[38;5;28;01mas\u001B[39;00m err:\n",
      "File \u001B[1;32m~\\miniconda3\\envs\\Drilling\\Lib\\site-packages\\pandas\\_libs\\ops.pyx:210\u001B[0m, in \u001B[0;36mpandas._libs.ops.scalar_binop\u001B[1;34m()\u001B[0m\n",
      "File \u001B[1;32m~\\miniconda3\\envs\\Drilling\\Lib\\site-packages\\pandas\\core\\roperator.py:54\u001B[0m, in \u001B[0;36mrand_\u001B[1;34m(left, right)\u001B[0m\n\u001B[0;32m     53\u001B[0m \u001B[38;5;28;01mdef\u001B[39;00m \u001B[38;5;21mrand_\u001B[39m(left, right):\n\u001B[1;32m---> 54\u001B[0m     \u001B[38;5;28;01mreturn\u001B[39;00m \u001B[43moperator\u001B[49m\u001B[38;5;241;43m.\u001B[39;49m\u001B[43mand_\u001B[49m\u001B[43m(\u001B[49m\u001B[43mright\u001B[49m\u001B[43m,\u001B[49m\u001B[43m \u001B[49m\u001B[43mleft\u001B[49m\u001B[43m)\u001B[49m\n",
      "\u001B[1;31mTypeError\u001B[0m: unsupported operand type(s) for &: 'bool' and 'str'",
      "\nThe above exception was the direct cause of the following exception:\n",
      "\u001B[1;31mTypeError\u001B[0m                                 Traceback (most recent call last)",
      "Cell \u001B[1;32mIn[3], line 1\u001B[0m\n\u001B[1;32m----> 1\u001B[0m data2 \u001B[38;5;241m=\u001B[39m data\u001B[38;5;241m.\u001B[39mloc[(data[\u001B[38;5;124m'\u001B[39m\u001B[38;5;124mdate\u001B[39m\u001B[38;5;124m'\u001B[39m]\u001B[38;5;241m==\u001B[39m\u001B[38;5;124;43m\"\u001B[39;49m\u001B[38;5;124;43m2014\u001B[39;49m\u001B[38;5;124;43m\"\u001B[39;49m\u001B[43m \u001B[49m\u001B[38;5;241;43m&\u001B[39;49m\u001B[43m \u001B[49m\u001B[43mdata\u001B[49m\u001B[43m[\u001B[49m\u001B[38;5;124;43m\"\u001B[39;49m\u001B[38;5;124;43mwell_name\u001B[39;49m\u001B[38;5;124;43m\"\u001B[39;49m\u001B[43m]\u001B[49m\u001B[38;5;241m==\u001B[39m\u001B[38;5;124m\"\u001B[39m\u001B[38;5;124m15/9-F-1 C\u001B[39m\u001B[38;5;124m\"\u001B[39m), [\u001B[38;5;124m\"\u001B[39m\u001B[38;5;124mdate\u001B[39m\u001B[38;5;124m\"\u001B[39m, \u001B[38;5;124m\"\u001B[39m\u001B[38;5;124mwell_name\u001B[39m\u001B[38;5;124m\"\u001B[39m, \u001B[38;5;124m\"\u001B[39m\u001B[38;5;124mprod_hrs\u001B[39m\u001B[38;5;124m\"\u001B[39m]]\n\u001B[0;32m      2\u001B[0m data2\n",
      "File \u001B[1;32m~\\miniconda3\\envs\\Drilling\\Lib\\site-packages\\pandas\\core\\ops\\common.py:81\u001B[0m, in \u001B[0;36m_unpack_zerodim_and_defer.<locals>.new_method\u001B[1;34m(self, other)\u001B[0m\n\u001B[0;32m     77\u001B[0m             \u001B[38;5;28;01mreturn\u001B[39;00m \u001B[38;5;28mNotImplemented\u001B[39m\n\u001B[0;32m     79\u001B[0m other \u001B[38;5;241m=\u001B[39m item_from_zerodim(other)\n\u001B[1;32m---> 81\u001B[0m \u001B[38;5;28;01mreturn\u001B[39;00m \u001B[43mmethod\u001B[49m\u001B[43m(\u001B[49m\u001B[38;5;28;43mself\u001B[39;49m\u001B[43m,\u001B[49m\u001B[43m \u001B[49m\u001B[43mother\u001B[49m\u001B[43m)\u001B[49m\n",
      "File \u001B[1;32m~\\miniconda3\\envs\\Drilling\\Lib\\site-packages\\pandas\\core\\arraylike.py:74\u001B[0m, in \u001B[0;36mOpsMixin.__rand__\u001B[1;34m(self, other)\u001B[0m\n\u001B[0;32m     72\u001B[0m \u001B[38;5;129m@unpack_zerodim_and_defer\u001B[39m(\u001B[38;5;124m\"\u001B[39m\u001B[38;5;124m__rand__\u001B[39m\u001B[38;5;124m\"\u001B[39m)\n\u001B[0;32m     73\u001B[0m \u001B[38;5;28;01mdef\u001B[39;00m \u001B[38;5;21m__rand__\u001B[39m(\u001B[38;5;28mself\u001B[39m, other):\n\u001B[1;32m---> 74\u001B[0m     \u001B[38;5;28;01mreturn\u001B[39;00m \u001B[38;5;28;43mself\u001B[39;49m\u001B[38;5;241;43m.\u001B[39;49m\u001B[43m_logical_method\u001B[49m\u001B[43m(\u001B[49m\u001B[43mother\u001B[49m\u001B[43m,\u001B[49m\u001B[43m \u001B[49m\u001B[43mroperator\u001B[49m\u001B[38;5;241;43m.\u001B[39;49m\u001B[43mrand_\u001B[49m\u001B[43m)\u001B[49m\n",
      "File \u001B[1;32m~\\miniconda3\\envs\\Drilling\\Lib\\site-packages\\pandas\\core\\series.py:6107\u001B[0m, in \u001B[0;36mSeries._logical_method\u001B[1;34m(self, other, op)\u001B[0m\n\u001B[0;32m   6104\u001B[0m lvalues \u001B[38;5;241m=\u001B[39m \u001B[38;5;28mself\u001B[39m\u001B[38;5;241m.\u001B[39m_values\n\u001B[0;32m   6105\u001B[0m rvalues \u001B[38;5;241m=\u001B[39m extract_array(other, extract_numpy\u001B[38;5;241m=\u001B[39m\u001B[38;5;28;01mTrue\u001B[39;00m, extract_range\u001B[38;5;241m=\u001B[39m\u001B[38;5;28;01mTrue\u001B[39;00m)\n\u001B[1;32m-> 6107\u001B[0m res_values \u001B[38;5;241m=\u001B[39m \u001B[43mops\u001B[49m\u001B[38;5;241;43m.\u001B[39;49m\u001B[43mlogical_op\u001B[49m\u001B[43m(\u001B[49m\u001B[43mlvalues\u001B[49m\u001B[43m,\u001B[49m\u001B[43m \u001B[49m\u001B[43mrvalues\u001B[49m\u001B[43m,\u001B[49m\u001B[43m \u001B[49m\u001B[43mop\u001B[49m\u001B[43m)\u001B[49m\n\u001B[0;32m   6108\u001B[0m \u001B[38;5;28;01mreturn\u001B[39;00m \u001B[38;5;28mself\u001B[39m\u001B[38;5;241m.\u001B[39m_construct_result(res_values, name\u001B[38;5;241m=\u001B[39mres_name)\n",
      "File \u001B[1;32m~\\miniconda3\\envs\\Drilling\\Lib\\site-packages\\pandas\\core\\ops\\array_ops.py:401\u001B[0m, in \u001B[0;36mlogical_op\u001B[1;34m(left, right, op)\u001B[0m\n\u001B[0;32m    397\u001B[0m \u001B[38;5;66;03m# For int vs int `^`, `|`, `&` are bitwise operators and return\u001B[39;00m\n\u001B[0;32m    398\u001B[0m \u001B[38;5;66;03m#   integer dtypes.  Otherwise these are boolean ops\u001B[39;00m\n\u001B[0;32m    399\u001B[0m filler \u001B[38;5;241m=\u001B[39m fill_int \u001B[38;5;28;01mif\u001B[39;00m is_self_int_dtype \u001B[38;5;129;01mand\u001B[39;00m is_other_int_dtype \u001B[38;5;28;01melse\u001B[39;00m fill_bool\n\u001B[1;32m--> 401\u001B[0m res_values \u001B[38;5;241m=\u001B[39m \u001B[43mna_logical_op\u001B[49m\u001B[43m(\u001B[49m\u001B[43mlvalues\u001B[49m\u001B[43m,\u001B[49m\u001B[43m \u001B[49m\u001B[43mrvalues\u001B[49m\u001B[43m,\u001B[49m\u001B[43m \u001B[49m\u001B[43mop\u001B[49m\u001B[43m)\u001B[49m\n\u001B[0;32m    402\u001B[0m \u001B[38;5;66;03m# error: Cannot call function of unknown type\u001B[39;00m\n\u001B[0;32m    403\u001B[0m res_values \u001B[38;5;241m=\u001B[39m filler(res_values)  \u001B[38;5;66;03m# type: ignore[operator]\u001B[39;00m\n",
      "File \u001B[1;32m~\\miniconda3\\envs\\Drilling\\Lib\\site-packages\\pandas\\core\\ops\\array_ops.py:334\u001B[0m, in \u001B[0;36mna_logical_op\u001B[1;34m(x, y, op)\u001B[0m\n\u001B[0;32m    326\u001B[0m         \u001B[38;5;28;01mexcept\u001B[39;00m (\n\u001B[0;32m    327\u001B[0m             \u001B[38;5;167;01mTypeError\u001B[39;00m,\n\u001B[0;32m    328\u001B[0m             \u001B[38;5;167;01mValueError\u001B[39;00m,\n\u001B[1;32m   (...)\u001B[0m\n\u001B[0;32m    331\u001B[0m             \u001B[38;5;167;01mNotImplementedError\u001B[39;00m,\n\u001B[0;32m    332\u001B[0m         ) \u001B[38;5;28;01mas\u001B[39;00m err:\n\u001B[0;32m    333\u001B[0m             typ \u001B[38;5;241m=\u001B[39m \u001B[38;5;28mtype\u001B[39m(y)\u001B[38;5;241m.\u001B[39m\u001B[38;5;18m__name__\u001B[39m\n\u001B[1;32m--> 334\u001B[0m             \u001B[38;5;28;01mraise\u001B[39;00m \u001B[38;5;167;01mTypeError\u001B[39;00m(\n\u001B[0;32m    335\u001B[0m                 \u001B[38;5;124mf\u001B[39m\u001B[38;5;124m\"\u001B[39m\u001B[38;5;124mCannot perform \u001B[39m\u001B[38;5;124m'\u001B[39m\u001B[38;5;132;01m{\u001B[39;00mop\u001B[38;5;241m.\u001B[39m\u001B[38;5;18m__name__\u001B[39m\u001B[38;5;132;01m}\u001B[39;00m\u001B[38;5;124m'\u001B[39m\u001B[38;5;124m with a dtyped [\u001B[39m\u001B[38;5;132;01m{\u001B[39;00mx\u001B[38;5;241m.\u001B[39mdtype\u001B[38;5;132;01m}\u001B[39;00m\u001B[38;5;124m] array \u001B[39m\u001B[38;5;124m\"\u001B[39m\n\u001B[0;32m    336\u001B[0m                 \u001B[38;5;124mf\u001B[39m\u001B[38;5;124m\"\u001B[39m\u001B[38;5;124mand scalar of type [\u001B[39m\u001B[38;5;132;01m{\u001B[39;00mtyp\u001B[38;5;132;01m}\u001B[39;00m\u001B[38;5;124m]\u001B[39m\u001B[38;5;124m\"\u001B[39m\n\u001B[0;32m    337\u001B[0m             ) \u001B[38;5;28;01mfrom\u001B[39;00m \u001B[38;5;21;01merr\u001B[39;00m\n\u001B[0;32m    339\u001B[0m \u001B[38;5;28;01mreturn\u001B[39;00m result\u001B[38;5;241m.\u001B[39mreshape(x\u001B[38;5;241m.\u001B[39mshape)\n",
      "\u001B[1;31mTypeError\u001B[0m: Cannot perform 'rand_' with a dtyped [object] array and scalar of type [bool]"
     ]
    }
   ],
   "source": [
    "data2 = data.loc[(data['date']==\"2014\" & data[\"well_name\"]==\"15/9-F-1 C\"), [\"date\", \"well_name\", \"prod_hrs\"]]\n",
    "data2"
   ]
  },
  {
   "cell_type": "code",
   "execution_count": null,
   "id": "5baf54ac-b305-4138-9409-d934daed948a",
   "metadata": {},
   "outputs": [],
   "source": []
  }
 ],
 "metadata": {
  "kernelspec": {
   "display_name": "Python 3 (ipykernel)",
   "language": "python",
   "name": "python3"
  },
  "language_info": {
   "codemirror_mode": {
    "name": "ipython",
    "version": 3
   },
   "file_extension": ".py",
   "mimetype": "text/x-python",
   "name": "python",
   "nbconvert_exporter": "python",
   "pygments_lexer": "ipython3",
   "version": "3.11.4"
  }
 },
 "nbformat": 4,
 "nbformat_minor": 5
}
